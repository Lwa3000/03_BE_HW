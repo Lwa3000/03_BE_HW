{
 "cells": [
  {
   "cell_type": "code",
   "execution_count": null,
   "metadata": {},
   "outputs": [],
   "source": [
    "# Note to TA: I am going to submit again to finish this assignment.\n",
    "#             I am scraping the Indeed website instead of the ones in the homework because it's more useful for me."
   ]
  },
  {
   "cell_type": "code",
   "execution_count": 1,
   "metadata": {},
   "outputs": [],
   "source": [
    "# Dependencies\n",
    "from bs4 import BeautifulSoup\n",
    "import requests\n",
    "import pymongo"
   ]
  },
  {
   "cell_type": "code",
   "execution_count": 2,
   "metadata": {},
   "outputs": [],
   "source": [
    "# Initialize PyMongo to work with MongoDBs\n",
    "conn = 'mongodb://localhost:27017'\n",
    "client = pymongo.MongoClient(conn)\n",
    "\n",
    "# Define database and collection\n",
    "db = client.indeed_db\n",
    "collection = db.items"
   ]
  },
  {
   "cell_type": "code",
   "execution_count": 3,
   "metadata": {},
   "outputs": [],
   "source": [
    "# URL of page to be scraped\n",
    "url = 'https://www.indeed.com/jobs?q=data+engineer&l=San+Francisco%2C+CA'"
   ]
  },
  {
   "cell_type": "code",
   "execution_count": 4,
   "metadata": {},
   "outputs": [],
   "source": [
    "# Retrieve page with the requests module\n",
    "response = requests.get(url)\n",
    "# Create BeautifulSoup object; parse with 'lxml'\n",
    "soup = BeautifulSoup(response.text, 'lxml')"
   ]
  },
  {
   "cell_type": "code",
   "execution_count": 5,
   "metadata": {},
   "outputs": [],
   "source": [
    "results = soup.find_all('a', class_='jobtitle turnstileLink')"
   ]
  },
  {
   "cell_type": "code",
   "execution_count": 15,
   "metadata": {},
   "outputs": [
    {
     "name": "stdout",
     "output_type": "stream",
     "text": [
      "-------------\n",
      "Senior Talent Acquisition Partner, Engineering\n",
      "-------------\n",
      "Senior Server Engineer - RoR, MongoDB, Redis, Heroku\n",
      "-------------\n",
      "Simulation and Infrastructure Software Engineer\n",
      "-------------\n",
      "Data Engineer\n",
      "-------------\n",
      "Backend Engineer Hustler at Trustwork\n",
      "-------------\n",
      "React Engineer Hustler at Trustwork\n"
     ]
    }
   ],
   "source": [
    "for result in results:\n",
    "#     print(result[\"title\"])\n",
    "    try:\n",
    "        # Find the title of the posting\n",
    "        title = result[\"title\"]\n",
    "\n",
    "\n",
    "        # Run only if title, price, and link are available\n",
    "        if (title):\n",
    "            # Print results\n",
    "            print('-------------')\n",
    "            print(title)\n",
    "\n",
    "            # Dictionary to be inserted as a MongoDB document\n",
    "            position = {\n",
    "                'title': title,\n",
    "            }\n",
    "\n",
    "#             collection.insert_one(position)\n",
    "\n",
    "    except Exception as e:\n",
    "        print(e)"
   ]
  },
  {
   "cell_type": "code",
   "execution_count": null,
   "metadata": {},
   "outputs": [],
   "source": []
  }
 ],
 "metadata": {
  "kernelspec": {
   "display_name": "Python [PythonData]",
   "language": "python",
   "name": "pythondata"
  },
  "language_info": {
   "codemirror_mode": {
    "name": "ipython",
    "version": 3
   },
   "file_extension": ".py",
   "mimetype": "text/x-python",
   "name": "python",
   "nbconvert_exporter": "python",
   "pygments_lexer": "ipython3",
   "version": "3.6.4"
  }
 },
 "nbformat": 4,
 "nbformat_minor": 2
}
